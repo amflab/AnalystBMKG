{
 "cells": [
  {
   "cell_type": "code",
   "execution_count": 10,
   "metadata": {},
   "outputs": [],
   "source": [
    "import requests\n",
    "import pandas as pd"
   ]
  },
  {
   "cell_type": "code",
   "execution_count": 11,
   "metadata": {},
   "outputs": [],
   "source": [
    "# ref : https://github.com/infoBMKG/data-gempabumi\n",
    "\n",
    "autogempa = \"https://data.bmkg.go.id/DataMKG/TEWS/autogempa.json\"\n",
    "gempabumiterkini = \"https://data.bmkg.go.id/DataMKG/TEWS/gempaterkini.json\"\n",
    "gempabumidirasakan = \"https://data.bmkg.go.id/DataMKG/TEWS/gempadirasakan.json\""
   ]
  },
  {
   "cell_type": "code",
   "execution_count": 132,
   "metadata": {},
   "outputs": [],
   "source": [
    "class DataBMKG():\n",
    "    def __init__(self, data: str):\n",
    "        self.__get_bmkg(data)\n",
    "\n",
    "    def __auto_earthquake(self, filename, data: dict):\n",
    "        data = pd.DataFrame.from_dict(data, orient='index').T\n",
    "        data.to_csv('dataset/'+filename+'.csv', index=True)\n",
    "\n",
    "    # need to improve table for more tidy csv from felt to new\n",
    "    def __felt_earthquake(self, filename, data: pd.DataFrame):\n",
    "        columns = ['Tanggal','Jam','DateTime','Coordinates','Lintang','Bujur','Magnitude','Kedalaman','Wilayah', 'Dirasakan']\n",
    "\n",
    "        rows = []\n",
    "        for d in data:\n",
    "            rows.append(pd.Series(d, index=columns))\n",
    "        \n",
    "        datas = pd.DataFrame(rows, columns=columns)\n",
    "        datas.to_csv('dataset/'+filename+'.csv', index=True)\n",
    "            \n",
    "    def __new_earthquake(self, filename, data: pd.DataFrame):\n",
    "        columns = ['Tanggal','Jam','DateTime','Coordinates','Lintang','Bujur','Magnitude','Kedalaman','Wilayah', 'Potensi']\n",
    "\n",
    "        rows = []\n",
    "        for d in data:\n",
    "            rows.append(pd.Series(d, index=columns))\n",
    "        \n",
    "        datas = pd.DataFrame(rows, columns=columns)\n",
    "        datas.to_csv('dataset/'+filename+'.csv', index=True)\n",
    "\n",
    "    def __get_bmkg(self, data:str):\n",
    "\n",
    "        from io import StringIO\n",
    "        \n",
    "        try:\n",
    "            headers = {\n",
    "                'User-Agent': 'Mozilla/5.0 \\\n",
    "                    (Macintosh; Intel Mac OS X 10_11_5) \\\n",
    "                    AppleWebKit/537.36 (KHTML, like Gecko) \\\n",
    "                    Chrome/50.0.2661.102 Safari/537.36'\n",
    "            }\n",
    "            \n",
    "            response = requests.get(data, headers=headers)\n",
    "            raw = pd.read_json(StringIO(response.content.decode('utf-8')))\n",
    "            \n",
    "            filename = data.split('/')[-1].split('.')[0]\n",
    "\n",
    "            if filename == 'autogempa':\n",
    "                self.__auto_earthquake(filename, raw['Infogempa']['gempa'])\n",
    "            elif filename == 'gempadirasakan':\n",
    "                self.__felt_earthquake(filename, raw['Infogempa']['gempa'])\n",
    "            elif filename == 'gempaterkini':\n",
    "                self.__new_earthquake(filename, raw['Infogempa']['gempa'])\n",
    "                \n",
    "        except requests.exceptions.HTTPError as errh:\n",
    "            print(repr(errh))\n",
    "        except requests.exceptions.ConnectionError as errc:\n",
    "            print(repr(errc))\n",
    "        except requests.exceptions.Timeout as errt:\n",
    "            print(repr(errt))\n",
    "        except requests.exceptions.RequestException as err:\n",
    "            print(repr(err))"
   ]
  },
  {
   "cell_type": "markdown",
   "metadata": {},
   "source": [
    "# Data BMKG Gempa"
   ]
  },
  {
   "cell_type": "code",
   "execution_count": 133,
   "metadata": {},
   "outputs": [
    {
     "data": {
      "text/plain": [
       "<__main__.DataBMKG at 0x7fe8664d0090>"
      ]
     },
     "execution_count": 133,
     "metadata": {},
     "output_type": "execute_result"
    }
   ],
   "source": [
    "DataBMKG(autogempa)"
   ]
  },
  {
   "cell_type": "markdown",
   "metadata": {},
   "source": [
    "# Data BMKG Gempa Dirasakan"
   ]
  },
  {
   "cell_type": "code",
   "execution_count": 134,
   "metadata": {},
   "outputs": [
    {
     "data": {
      "text/plain": [
       "<__main__.DataBMKG at 0x7fe863edeed0>"
      ]
     },
     "execution_count": 134,
     "metadata": {},
     "output_type": "execute_result"
    }
   ],
   "source": [
    "DataBMKG(gempabumidirasakan)"
   ]
  },
  {
   "cell_type": "markdown",
   "metadata": {},
   "source": [
    "# Data BMKG Gempa Terkini"
   ]
  },
  {
   "cell_type": "code",
   "execution_count": 135,
   "metadata": {},
   "outputs": [
    {
     "data": {
      "text/plain": [
       "<__main__.DataBMKG at 0x7fe863ccc290>"
      ]
     },
     "execution_count": 135,
     "metadata": {},
     "output_type": "execute_result"
    }
   ],
   "source": [
    "DataBMKG(gempabumiterkini)"
   ]
  }
 ],
 "metadata": {
  "kernelspec": {
   "display_name": "amflabenv",
   "language": "python",
   "name": "python3"
  },
  "language_info": {
   "codemirror_mode": {
    "name": "ipython",
    "version": 3
   },
   "file_extension": ".py",
   "mimetype": "text/x-python",
   "name": "python",
   "nbconvert_exporter": "python",
   "pygments_lexer": "ipython3",
   "version": "3.11.2"
  }
 },
 "nbformat": 4,
 "nbformat_minor": 2
}
