{
 "cells": [
  {
   "cell_type": "code",
   "execution_count": 140,
   "metadata": {},
   "outputs": [],
   "source": [
    "import requests\n",
    "import pandas as pd\n",
    "import folium"
   ]
  },
  {
   "cell_type": "code",
   "execution_count": 11,
   "metadata": {},
   "outputs": [],
   "source": [
    "# ref : https://github.com/infoBMKG/data-gempabumi\n",
    "\n",
    "autogempa = \"https://data.bmkg.go.id/DataMKG/TEWS/autogempa.json\"\n",
    "gempabumiterkini = \"https://data.bmkg.go.id/DataMKG/TEWS/gempaterkini.json\"\n",
    "gempabumidirasakan = \"https://data.bmkg.go.id/DataMKG/TEWS/gempadirasakan.json\""
   ]
  },
  {
   "cell_type": "markdown",
   "metadata": {},
   "source": [
    "# Function"
   ]
  },
  {
   "cell_type": "code",
   "execution_count": 132,
   "metadata": {},
   "outputs": [],
   "source": [
    "class StoreBMKG():\n",
    "    def __init__(self, data: str):\n",
    "        self.__get_bmkg(data)\n",
    "\n",
    "    def __auto_earthquake(self, filename, data: dict):\n",
    "        data = pd.DataFrame.from_dict(data, orient='index').T\n",
    "        data.to_csv('dataset/'+filename+'.csv', index=True)\n",
    "\n",
    "    # need to improve table for more tidy csv from felt to new\n",
    "    def __felt_earthquake(self, filename, data: pd.DataFrame):\n",
    "        columns = ['Tanggal','Jam','DateTime','Coordinates','Lintang','Bujur','Magnitude','Kedalaman','Wilayah', 'Dirasakan']\n",
    "\n",
    "        rows = []\n",
    "        for d in data:\n",
    "            rows.append(pd.Series(d, index=columns))\n",
    "        \n",
    "        datas = pd.DataFrame(rows, columns=columns)\n",
    "        datas.to_csv('dataset/'+filename+'.csv', index=True)\n",
    "            \n",
    "    def __new_earthquake(self, filename, data: pd.DataFrame):\n",
    "        columns = ['Tanggal','Jam','DateTime','Coordinates','Lintang','Bujur','Magnitude','Kedalaman','Wilayah', 'Potensi']\n",
    "\n",
    "        rows = []\n",
    "        for d in data:\n",
    "            rows.append(pd.Series(d, index=columns))\n",
    "        \n",
    "        datas = pd.DataFrame(rows, columns=columns)\n",
    "        datas.to_csv('dataset/'+filename+'.csv', index=True)\n",
    "\n",
    "    def __get_bmkg(self, data:str):\n",
    "\n",
    "        from io import StringIO\n",
    "        \n",
    "        try:\n",
    "            headers = {\n",
    "                'User-Agent': 'Mozilla/5.0 \\\n",
    "                    (Macintosh; Intel Mac OS X 10_11_5) \\\n",
    "                    AppleWebKit/537.36 (KHTML, like Gecko) \\\n",
    "                    Chrome/50.0.2661.102 Safari/537.36'\n",
    "            }\n",
    "            \n",
    "            response = requests.get(data, headers=headers)\n",
    "            raw = pd.read_json(StringIO(response.content.decode('utf-8')))\n",
    "            \n",
    "            filename = data.split('/')[-1].split('.')[0]\n",
    "\n",
    "            if filename == 'autogempa':\n",
    "                self.__auto_earthquake(filename, raw['Infogempa']['gempa'])\n",
    "            elif filename == 'gempadirasakan':\n",
    "                self.__felt_earthquake(filename, raw['Infogempa']['gempa'])\n",
    "            elif filename == 'gempaterkini':\n",
    "                self.__new_earthquake(filename, raw['Infogempa']['gempa'])\n",
    "                \n",
    "        except requests.exceptions.HTTPError as errh:\n",
    "            print(repr(errh))\n",
    "        except requests.exceptions.ConnectionError as errc:\n",
    "            print(repr(errc))\n",
    "        except requests.exceptions.Timeout as errt:\n",
    "            print(repr(errt))\n",
    "        except requests.exceptions.RequestException as err:\n",
    "            print(repr(err))"
   ]
  },
  {
   "cell_type": "markdown",
   "metadata": {},
   "source": [
    "# Storing Data into CSV"
   ]
  },
  {
   "cell_type": "code",
   "execution_count": 137,
   "metadata": {},
   "outputs": [],
   "source": [
    "listDataBMKG = [autogempa, gempabumidirasakan, gempabumiterkini]\n",
    "for d in listDataBMKG:\n",
    "    StoreBMKG(d)"
   ]
  },
  {
   "cell_type": "markdown",
   "metadata": {},
   "source": [
    "# Data BMKG Gempa"
   ]
  },
  {
   "cell_type": "markdown",
   "metadata": {},
   "source": [
    "## Show Table"
   ]
  },
  {
   "cell_type": "code",
   "execution_count": 139,
   "metadata": {},
   "outputs": [
    {
     "data": {
      "text/html": [
       "<div>\n",
       "<style scoped>\n",
       "    .dataframe tbody tr th:only-of-type {\n",
       "        vertical-align: middle;\n",
       "    }\n",
       "\n",
       "    .dataframe tbody tr th {\n",
       "        vertical-align: top;\n",
       "    }\n",
       "\n",
       "    .dataframe thead th {\n",
       "        text-align: right;\n",
       "    }\n",
       "</style>\n",
       "<table border=\"1\" class=\"dataframe\">\n",
       "  <thead>\n",
       "    <tr style=\"text-align: right;\">\n",
       "      <th></th>\n",
       "      <th>Tanggal</th>\n",
       "      <th>Jam</th>\n",
       "      <th>DateTime</th>\n",
       "      <th>Coordinates</th>\n",
       "      <th>Lintang</th>\n",
       "      <th>Bujur</th>\n",
       "      <th>Magnitude</th>\n",
       "      <th>Kedalaman</th>\n",
       "      <th>Wilayah</th>\n",
       "      <th>Potensi</th>\n",
       "      <th>Dirasakan</th>\n",
       "      <th>Shakemap</th>\n",
       "    </tr>\n",
       "  </thead>\n",
       "  <tbody>\n",
       "    <tr>\n",
       "      <th>0</th>\n",
       "      <td>26 Mar 2024</td>\n",
       "      <td>00:36:36 WIB</td>\n",
       "      <td>2024-03-25T17:36:36+00:00</td>\n",
       "      <td>0.83,125.40</td>\n",
       "      <td>0.83 LU</td>\n",
       "      <td>125.40 BT</td>\n",
       "      <td>4.8</td>\n",
       "      <td>40 km</td>\n",
       "      <td>Pusat gempa berada di laut 71 km Tenggara Ratahan</td>\n",
       "      <td>Gempa ini dirasakan untuk diteruskan pada masy...</td>\n",
       "      <td>II-III Bitung, II Manado, II Tondano</td>\n",
       "      <td>20240326003636.mmi.jpg</td>\n",
       "    </tr>\n",
       "  </tbody>\n",
       "</table>\n",
       "</div>"
      ],
      "text/plain": [
       "       Tanggal           Jam                   DateTime  Coordinates  Lintang  \\\n",
       "0  26 Mar 2024  00:36:36 WIB  2024-03-25T17:36:36+00:00  0.83,125.40  0.83 LU   \n",
       "\n",
       "       Bujur  Magnitude Kedalaman  \\\n",
       "0  125.40 BT        4.8     40 km   \n",
       "\n",
       "                                             Wilayah  \\\n",
       "0  Pusat gempa berada di laut 71 km Tenggara Ratahan   \n",
       "\n",
       "                                             Potensi  \\\n",
       "0  Gempa ini dirasakan untuk diteruskan pada masy...   \n",
       "\n",
       "                              Dirasakan                Shakemap  \n",
       "0  II-III Bitung, II Manado, II Tondano  20240326003636.mmi.jpg  "
      ]
     },
     "metadata": {},
     "output_type": "display_data"
    }
   ],
   "source": [
    "dataAutoGempa = pd.read_csv('dataset/autogempa.csv')\n",
    "\n",
    "dataAutoGempa.drop(dataAutoGempa.columns[\n",
    "    dataAutoGempa.columns.str.contains(\n",
    "    'unnamed', case=False)], axis=1, inplace=True)\n",
    "\n",
    "display(dataAutoGempa)"
   ]
  },
  {
   "cell_type": "markdown",
   "metadata": {},
   "source": [
    "## Show Map"
   ]
  },
  {
   "cell_type": "markdown",
   "metadata": {},
   "source": [
    "### Folium"
   ]
  },
  {
   "cell_type": "code",
   "execution_count": 170,
   "metadata": {},
   "outputs": [
    {
     "data": {
      "text/html": [
       "<div style=\"width:100%;\"><div style=\"position:relative;width:100%;height:0;padding-bottom:60%;\"><span style=\"color:#565656\">Make this Notebook Trusted to load map: File -> Trust Notebook</span><iframe srcdoc=\"&lt;!DOCTYPE html&gt;\n",
       "&lt;html&gt;\n",
       "&lt;head&gt;\n",
       "    \n",
       "    &lt;meta http-equiv=&quot;content-type&quot; content=&quot;text/html; charset=UTF-8&quot; /&gt;\n",
       "    \n",
       "        &lt;script&gt;\n",
       "            L_NO_TOUCH = false;\n",
       "            L_DISABLE_3D = false;\n",
       "        &lt;/script&gt;\n",
       "    \n",
       "    &lt;style&gt;html, body {width: 100%;height: 100%;margin: 0;padding: 0;}&lt;/style&gt;\n",
       "    &lt;style&gt;#map {position:absolute;top:0;bottom:0;right:0;left:0;}&lt;/style&gt;\n",
       "    &lt;script src=&quot;https://cdn.jsdelivr.net/npm/leaflet@1.9.3/dist/leaflet.js&quot;&gt;&lt;/script&gt;\n",
       "    &lt;script src=&quot;https://code.jquery.com/jquery-3.7.1.min.js&quot;&gt;&lt;/script&gt;\n",
       "    &lt;script src=&quot;https://cdn.jsdelivr.net/npm/bootstrap@5.2.2/dist/js/bootstrap.bundle.min.js&quot;&gt;&lt;/script&gt;\n",
       "    &lt;script src=&quot;https://cdnjs.cloudflare.com/ajax/libs/Leaflet.awesome-markers/2.0.2/leaflet.awesome-markers.js&quot;&gt;&lt;/script&gt;\n",
       "    &lt;link rel=&quot;stylesheet&quot; href=&quot;https://cdn.jsdelivr.net/npm/leaflet@1.9.3/dist/leaflet.css&quot;/&gt;\n",
       "    &lt;link rel=&quot;stylesheet&quot; href=&quot;https://cdn.jsdelivr.net/npm/bootstrap@5.2.2/dist/css/bootstrap.min.css&quot;/&gt;\n",
       "    &lt;link rel=&quot;stylesheet&quot; href=&quot;https://netdna.bootstrapcdn.com/bootstrap/3.0.0/css/bootstrap.min.css&quot;/&gt;\n",
       "    &lt;link rel=&quot;stylesheet&quot; href=&quot;https://cdn.jsdelivr.net/npm/@fortawesome/fontawesome-free@6.2.0/css/all.min.css&quot;/&gt;\n",
       "    &lt;link rel=&quot;stylesheet&quot; href=&quot;https://cdnjs.cloudflare.com/ajax/libs/Leaflet.awesome-markers/2.0.2/leaflet.awesome-markers.css&quot;/&gt;\n",
       "    &lt;link rel=&quot;stylesheet&quot; href=&quot;https://cdn.jsdelivr.net/gh/python-visualization/folium/folium/templates/leaflet.awesome.rotate.min.css&quot;/&gt;\n",
       "    \n",
       "            &lt;meta name=&quot;viewport&quot; content=&quot;width=device-width,\n",
       "                initial-scale=1.0, maximum-scale=1.0, user-scalable=no&quot; /&gt;\n",
       "            &lt;style&gt;\n",
       "                #map_5ba138d29daf6507c88b8c94f35c1155 {\n",
       "                    position: relative;\n",
       "                    width: 100.0%;\n",
       "                    height: 100.0%;\n",
       "                    left: 0.0%;\n",
       "                    top: 0.0%;\n",
       "                }\n",
       "                .leaflet-container { font-size: 1rem; }\n",
       "            &lt;/style&gt;\n",
       "        \n",
       "&lt;/head&gt;\n",
       "&lt;body&gt;\n",
       "    \n",
       "    \n",
       "            &lt;div class=&quot;folium-map&quot; id=&quot;map_5ba138d29daf6507c88b8c94f35c1155&quot; &gt;&lt;/div&gt;\n",
       "        \n",
       "&lt;/body&gt;\n",
       "&lt;script&gt;\n",
       "    \n",
       "    \n",
       "            var map_5ba138d29daf6507c88b8c94f35c1155 = L.map(\n",
       "                &quot;map_5ba138d29daf6507c88b8c94f35c1155&quot;,\n",
       "                {\n",
       "                    center: [63.115, 52.6774205],\n",
       "                    crs: L.CRS.EPSG3857,\n",
       "                    zoom: 7,\n",
       "                    zoomControl: true,\n",
       "                    preferCanvas: false,\n",
       "                }\n",
       "            );\n",
       "\n",
       "            \n",
       "\n",
       "        \n",
       "    \n",
       "            var tile_layer_42abfb0af72c9790dfc7b4b6dfa205a6 = L.tileLayer(\n",
       "                &quot;https://tile.openstreetmap.org/{z}/{x}/{y}.png&quot;,\n",
       "                {&quot;attribution&quot;: &quot;\\u0026copy; \\u003ca href=\\&quot;https://www.openstreetmap.org/copyright\\&quot;\\u003eOpenStreetMap\\u003c/a\\u003e contributors&quot;, &quot;detectRetina&quot;: false, &quot;maxNativeZoom&quot;: 19, &quot;maxZoom&quot;: 19, &quot;minZoom&quot;: 0, &quot;noWrap&quot;: false, &quot;opacity&quot;: 1, &quot;subdomains&quot;: &quot;abc&quot;, &quot;tms&quot;: false}\n",
       "            );\n",
       "        \n",
       "    \n",
       "            tile_layer_42abfb0af72c9790dfc7b4b6dfa205a6.addTo(map_5ba138d29daf6507c88b8c94f35c1155);\n",
       "        \n",
       "    \n",
       "            var marker_7bfbe32567a01ed777e8ee6e3cbb1010 = L.marker(\n",
       "                [0.83, 125.4],\n",
       "                {}\n",
       "            ).addTo(map_5ba138d29daf6507c88b8c94f35c1155);\n",
       "        \n",
       "    \n",
       "            var marker_bf84f62ec9b97bb0096b39676a66c39b = L.marker(\n",
       "                [-7.2754417, 112.6302827],\n",
       "                {}\n",
       "            ).addTo(map_5ba138d29daf6507c88b8c94f35c1155);\n",
       "        \n",
       "&lt;/script&gt;\n",
       "&lt;/html&gt;\" style=\"position:absolute;width:100%;height:100%;left:0;top:0;border:none !important;\" allowfullscreen webkitallowfullscreen mozallowfullscreen></iframe></div></div>"
      ],
      "text/plain": [
       "<folium.folium.Map at 0x7fe861850710>"
      ]
     },
     "execution_count": 170,
     "metadata": {},
     "output_type": "execute_result"
    }
   ],
   "source": [
    "quake = [0, 0]\n",
    "surabaya = [-7.2754417, 112.6302827]\n",
    "\n",
    "for v in dataAutoGempa['Coordinates'].values:\n",
    "    quake = v.split(',')\n",
    "\n",
    "centerlat = (float(quake[0]) + float(quake[1])) / 2\n",
    "centerlon = (surabaya[0] + surabaya[1]) / 2\n",
    "map = folium.Map(location=[centerlat, centerlon], zoom_start=7)\n",
    "\n",
    "folium.Marker(quake).add_to(map)\n",
    "folium.Marker(surabaya).add_to(map)\n",
    "\n",
    "map\n"
   ]
  },
  {
   "cell_type": "markdown",
   "metadata": {},
   "source": [
    "# Data BMKG Gempa Dirasakan"
   ]
  },
  {
   "cell_type": "code",
   "execution_count": 134,
   "metadata": {},
   "outputs": [
    {
     "data": {
      "text/plain": [
       "<__main__.DataBMKG at 0x7fe863edeed0>"
      ]
     },
     "execution_count": 134,
     "metadata": {},
     "output_type": "execute_result"
    }
   ],
   "source": []
  },
  {
   "cell_type": "markdown",
   "metadata": {},
   "source": [
    "# Data BMKG Gempa Terkini"
   ]
  },
  {
   "cell_type": "code",
   "execution_count": 135,
   "metadata": {},
   "outputs": [
    {
     "data": {
      "text/plain": [
       "<__main__.DataBMKG at 0x7fe863ccc290>"
      ]
     },
     "execution_count": 135,
     "metadata": {},
     "output_type": "execute_result"
    }
   ],
   "source": [
    "DataBMKG(gempabumiterkini)"
   ]
  }
 ],
 "metadata": {
  "kernelspec": {
   "display_name": "amflabenv",
   "language": "python",
   "name": "python3"
  },
  "language_info": {
   "codemirror_mode": {
    "name": "ipython",
    "version": 3
   },
   "file_extension": ".py",
   "mimetype": "text/x-python",
   "name": "python",
   "nbconvert_exporter": "python",
   "pygments_lexer": "ipython3",
   "version": "3.11.2"
  }
 },
 "nbformat": 4,
 "nbformat_minor": 2
}
